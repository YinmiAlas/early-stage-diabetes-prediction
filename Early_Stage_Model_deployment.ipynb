{
  "nbformat": 4,
  "nbformat_minor": 0,
  "metadata": {
    "colab": {
      "name": "Early_Stage_Model_deployment.ipynb",
      "provenance": [],
      "collapsed_sections": [],
      "authorship_tag": "ABX9TyP4Euhwi9ukdIJvif6dyksg",
      "include_colab_link": true
    },
    "kernelspec": {
      "name": "python3",
      "display_name": "Python 3"
    }
  },
  "cells": [
    {
      "cell_type": "markdown",
      "metadata": {
        "id": "view-in-github",
        "colab_type": "text"
      },
      "source": [
        "<a href=\"https://colab.research.google.com/github/YinmiAlas/early-stage-diabetes-prediction/blob/master/Early_Stage_Model_deployment.ipynb\" target=\"_parent\"><img src=\"https://colab.research.google.com/assets/colab-badge.svg\" alt=\"Open In Colab\"/></a>"
      ]
    },
    {
      "cell_type": "code",
      "metadata": {
        "id": "qg-5xpSskeHK",
        "colab_type": "code",
        "colab": {
          "base_uri": "https://localhost:8080/",
          "height": 224
        },
        "outputId": "ffc5a9a0-1971-470e-c2e6-9f79fba8afc8"
      },
      "source": [
        "!pip install category_encoders==2.*"
      ],
      "execution_count": null,
      "outputs": [
        {
          "output_type": "stream",
          "text": [
            "Requirement already satisfied: category_encoders==2.* in /usr/local/lib/python3.6/dist-packages (2.2.2)\n",
            "Requirement already satisfied: patsy>=0.5.1 in /usr/local/lib/python3.6/dist-packages (from category_encoders==2.*) (0.5.1)\n",
            "Requirement already satisfied: scikit-learn>=0.20.0 in /usr/local/lib/python3.6/dist-packages (from category_encoders==2.*) (0.22.2.post1)\n",
            "Requirement already satisfied: statsmodels>=0.9.0 in /usr/local/lib/python3.6/dist-packages (from category_encoders==2.*) (0.10.2)\n",
            "Requirement already satisfied: scipy>=1.0.0 in /usr/local/lib/python3.6/dist-packages (from category_encoders==2.*) (1.4.1)\n",
            "Requirement already satisfied: pandas>=0.21.1 in /usr/local/lib/python3.6/dist-packages (from category_encoders==2.*) (1.0.5)\n",
            "Requirement already satisfied: numpy>=1.14.0 in /usr/local/lib/python3.6/dist-packages (from category_encoders==2.*) (1.18.5)\n",
            "Requirement already satisfied: six in /usr/local/lib/python3.6/dist-packages (from patsy>=0.5.1->category_encoders==2.*) (1.15.0)\n",
            "Requirement already satisfied: joblib>=0.11 in /usr/local/lib/python3.6/dist-packages (from scikit-learn>=0.20.0->category_encoders==2.*) (0.16.0)\n",
            "Requirement already satisfied: pytz>=2017.2 in /usr/local/lib/python3.6/dist-packages (from pandas>=0.21.1->category_encoders==2.*) (2018.9)\n",
            "Requirement already satisfied: python-dateutil>=2.6.1 in /usr/local/lib/python3.6/dist-packages (from pandas>=0.21.1->category_encoders==2.*) (2.8.1)\n"
          ],
          "name": "stdout"
        }
      ]
    },
    {
      "cell_type": "code",
      "metadata": {
        "id": "G03sHxoahNpq",
        "colab_type": "code",
        "colab": {}
      },
      "source": [
        "# Importing essential libraries\n",
        "import numpy as np\n",
        "import pandas as pd\n",
        "import pickle\n",
        "from sklearn.ensemble import RandomForestClassifier\n",
        "\n",
        "# Loading the dataset\n",
        "diabetes = pd.read_csv('diabetes_data_upload.csv')\n",
        "\n",
        "# Change column names: replace spaces with underscores\n",
        "diabetes.rename(columns={'sudden weight loss': 'sudden_weight_loss', 'Genital thrush': 'Genital_thrush', \n",
        "                         'visual blurring': 'visual_blurring', 'delayed healing': 'delayed_healing', \n",
        "                         'partial paresis': 'partial_paresis', 'muscle stiffness': 'muscle_stiffness'}, inplace=True)\n",
        "\n",
        "# making capitalizing the fisrt letter of each head column \n",
        "diabetes.columns = map(lambda x: str(x).capitalize(), diabetes.columns)\n",
        "\n",
        "# convert the string values to integer\n",
        "change = {'Age':'Age', 'Gender':{'Male':1, 'Female':0}, 'Polyuria':{'Yes':1, 'No':0},       \n",
        "         \t'Polydipsia':{'Yes':1, 'No':0}, 'Sudden_weight_loss':{'Yes':1, 'No':0},\n",
        "          'Weakness':{'Yes':1, 'No':0}, 'Polyphagia':{'Yes':1, 'No':0},\n",
        "         'Genital_thrush':{'Yes':1, 'No':0}, 'Visual_blurring':{'Yes':1, 'No':0},\n",
        "          'Itching':{'Yes':1, 'No':0}, 'Irritability':{'Yes':1, 'No':0}, \n",
        "          'Delayed_healing':{'Yes':1, 'No':0},'Partial_paresis':{'Yes':1, 'No':0}, \n",
        "          'Muscle_stiffness':{'Yes':1, 'No':0}, 'Alopecia':{'Yes':1, 'No':0}, \n",
        "          'Obesity':{'Yes':1, 'No':0}, 'Class':{'Positive':1, 'Negative':0}}\n",
        "\n",
        "\n",
        "for k, v in change.items():\n",
        "    diabetes[k] = diabetes[k].replace(v)\n",
        "\n",
        "# Model Building\n",
        "from sklearn.model_selection import train_test_split\n",
        "X = diabetes.drop(columns='Class')\n",
        "y = diabetes['Class']\n",
        "X_train, X_test, y_train, y_test = train_test_split(X, y, test_size=0.20, random_state=0)\n",
        "  \n",
        "\n",
        "# Creating Random Forest Model\n",
        "model = RandomForestClassifier(random_state=50, n_jobs=-1)\n",
        "model.fit(X_train, y_train)\n",
        "\n",
        "# Creating a pickle file for the classifier\n",
        "filename = 'diabetes-prediction-rfc-model.pkl'\n",
        "pickle.dump(model, open(filename, 'wb'))"
      ],
      "execution_count": null,
      "outputs": []
    },
    {
      "cell_type": "code",
      "metadata": {
        "id": "ldY1bF2P3o30",
        "colab_type": "code",
        "colab": {}
      },
      "source": [
        ""
      ],
      "execution_count": null,
      "outputs": []
    }
  ]
}